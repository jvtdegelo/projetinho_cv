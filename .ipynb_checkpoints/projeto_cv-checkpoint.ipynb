{
 "cells": [
  {
   "cell_type": "markdown",
   "id": "7c407cb8",
   "metadata": {},
   "source": [
    "# PARTE 1: TAREFAS DE MANIPULACAO\n",
    "## Tarefa 1"
   ]
  },
  {
   "cell_type": "code",
   "execution_count": 7,
   "id": "8a0931f7",
   "metadata": {},
   "outputs": [],
   "source": [
    "import cv2\n",
    "from PIL import Image"
   ]
  },
  {
   "cell_type": "code",
   "execution_count": 2,
   "id": "1825da8e",
   "metadata": {},
   "outputs": [],
   "source": [
    "def visualize_img_pillow(img_address):\n",
    "    img = Image.open(img_address)\n",
    "    img.show()\n",
    "    return \n",
    "    \n",
    "def visualize_img_opencv(img_address):\n",
    "    img = cv2.imread(img_address)\n",
    "    cv2.imshow(\"image\", img)\n",
    "    cv2.waitKey(0)\n",
    "    cv2.destroyAllWindows()\n",
    "    return "
   ]
  },
  {
   "cell_type": "code",
   "execution_count": 3,
   "id": "9b3dbc84",
   "metadata": {},
   "outputs": [],
   "source": [
    "visualize_img_opencv(\"data/Darth Vader/00e4014787b9fb90ee3791ec9b8a224361064b41.jpg\")"
   ]
  },
  {
   "cell_type": "code",
   "execution_count": null,
   "id": "345b388e",
   "metadata": {},
   "outputs": [],
   "source": []
  }
 ],
 "metadata": {
  "kernelspec": {
   "display_name": "Python 3",
   "language": "python",
   "name": "python3"
  },
  "language_info": {
   "codemirror_mode": {
    "name": "ipython",
    "version": 3
   },
   "file_extension": ".py",
   "mimetype": "text/x-python",
   "name": "python",
   "nbconvert_exporter": "python",
   "pygments_lexer": "ipython3",
   "version": "3.7.10"
  }
 },
 "nbformat": 4,
 "nbformat_minor": 5
}
